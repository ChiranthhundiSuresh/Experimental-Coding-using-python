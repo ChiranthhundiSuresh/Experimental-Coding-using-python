{
 "cells": [
  {
   "cell_type": "code",
   "execution_count": 14,
   "id": "d3309445-0608-4a71-95b6-229e7a1c19c3",
   "metadata": {},
   "outputs": [
    {
     "name": "stdout",
     "output_type": "stream",
     "text": [
      "Player X's turn\n",
      "- - -\n",
      "- - -\n",
      "- - -\n",
      "\n"
     ]
    },
    {
     "name": "stdin",
     "output_type": "stream",
     "text": [
      "Enter row and column (1-3) to fix spot:  1 - 1\n"
     ]
    },
    {
     "name": "stdout",
     "output_type": "stream",
     "text": [
      "Please enter valid numbers for row and column.\n",
      "Player X's turn\n",
      "- - -\n",
      "- - -\n",
      "- - -\n",
      "\n"
     ]
    },
    {
     "name": "stdin",
     "output_type": "stream",
     "text": [
      "Enter row and column (1-3) to fix spot:  2 - 2\n"
     ]
    },
    {
     "name": "stdout",
     "output_type": "stream",
     "text": [
      "Please enter valid numbers for row and column.\n",
      "Player X's turn\n",
      "- - -\n",
      "- - -\n",
      "- - -\n",
      "\n"
     ]
    },
    {
     "name": "stdin",
     "output_type": "stream",
     "text": [
      "Enter row and column (1-3) to fix spot:  1 3\n"
     ]
    },
    {
     "name": "stdout",
     "output_type": "stream",
     "text": [
      "Player O's turn\n",
      "- - X\n",
      "- - -\n",
      "- - -\n",
      "\n"
     ]
    },
    {
     "name": "stdin",
     "output_type": "stream",
     "text": [
      "Enter row and column (1-3) to fix spot:  1 2\n"
     ]
    },
    {
     "name": "stdout",
     "output_type": "stream",
     "text": [
      "Player X's turn\n",
      "- O X\n",
      "- - -\n",
      "- - -\n",
      "\n"
     ]
    },
    {
     "name": "stdin",
     "output_type": "stream",
     "text": [
      "Enter row and column (1-3) to fix spot:  1 1\n"
     ]
    },
    {
     "name": "stdout",
     "output_type": "stream",
     "text": [
      "Player O's turn\n",
      "X O X\n",
      "- - -\n",
      "- - -\n",
      "\n"
     ]
    },
    {
     "name": "stdin",
     "output_type": "stream",
     "text": [
      "Enter row and column (1-3) to fix spot:  2 2\n"
     ]
    },
    {
     "name": "stdout",
     "output_type": "stream",
     "text": [
      "Player X's turn\n",
      "X O X\n",
      "- O -\n",
      "- - -\n",
      "\n"
     ]
    },
    {
     "name": "stdin",
     "output_type": "stream",
     "text": [
      "Enter row and column (1-3) to fix spot:  3 2\n"
     ]
    },
    {
     "name": "stdout",
     "output_type": "stream",
     "text": [
      "Player O's turn\n",
      "X O X\n",
      "- O -\n",
      "- X -\n",
      "\n"
     ]
    },
    {
     "name": "stdin",
     "output_type": "stream",
     "text": [
      "Enter row and column (1-3) to fix spot:  2 3\n"
     ]
    },
    {
     "name": "stdout",
     "output_type": "stream",
     "text": [
      "Player X's turn\n",
      "X O X\n",
      "- O O\n",
      "- X -\n",
      "\n"
     ]
    },
    {
     "name": "stdin",
     "output_type": "stream",
     "text": [
      "Enter row and column (1-3) to fix spot:  2 1 \n"
     ]
    },
    {
     "name": "stdout",
     "output_type": "stream",
     "text": [
      "Player O's turn\n",
      "X O X\n",
      "X O O\n",
      "- X -\n",
      "\n"
     ]
    },
    {
     "name": "stdin",
     "output_type": "stream",
     "text": [
      "Enter row and column (1-3) to fix spot:  3 3\n"
     ]
    },
    {
     "name": "stdout",
     "output_type": "stream",
     "text": [
      "Player X's turn\n",
      "X O X\n",
      "X O O\n",
      "- X O\n",
      "\n"
     ]
    },
    {
     "name": "stdin",
     "output_type": "stream",
     "text": [
      "Enter row and column (1-3) to fix spot:  3 1\n"
     ]
    },
    {
     "name": "stdout",
     "output_type": "stream",
     "text": [
      "Player X wins the game!\n",
      "Final Board:\n",
      "X O X\n",
      "X O O\n",
      "X X O\n",
      "\n"
     ]
    }
   ],
   "source": [
    "import random\n",
    "\n",
    "\n",
    "class TicTacToe:\n",
    "\n",
    "    def __init__(self):\n",
    "        self.board = []\n",
    "\n",
    "    def create_board(self):\n",
    "        self.board = [['-' for _ in range(3)] for _ in range(3)]\n",
    "\n",
    "    def get_random_first_player(self):\n",
    "        return random.randint(0, 1)\n",
    "\n",
    "    def fix_spot(self, row, col, player):\n",
    "        self.board[row][col] = player\n",
    "\n",
    "    def is_player_win(self, player):\n",
    "        n = len(self.board)\n",
    "\n",
    "        # Check rows and columns\n",
    "        for i in range(n):\n",
    "            if all(self.board[i][j] == player for j in range(n)):  # Check row\n",
    "                return True\n",
    "            if all(self.board[j][i] == player for j in range(n)):  # Check column\n",
    "                return True\n",
    "\n",
    "        # Check diagonals\n",
    "        if all(self.board[i][i] == player for i in range(n)):  # Main diagonal\n",
    "            return True\n",
    "        if all(self.board[i][n - 1 - i] == player for i in range(n)):  # Anti-diagonal\n",
    "            return True\n",
    "\n",
    "        return False\n",
    "\n",
    "    def is_board_filled(self):\n",
    "        return all(item != '-' for row in self.board for item in row)\n",
    "\n",
    "    def swap_player_turn(self, player):\n",
    "        return 'X' if player == 'O' else 'O'\n",
    "\n",
    "    def show_board(self):\n",
    "        for row in self.board:\n",
    "            print(\" \".join(row))\n",
    "        print()\n",
    "\n",
    "    def start(self):\n",
    "        self.create_board()\n",
    "        player = 'X' if self.get_random_first_player() == 1 else 'O'\n",
    "\n",
    "        while True:\n",
    "            print(f\"Player {player}'s turn\")\n",
    "            self.show_board()\n",
    "\n",
    "            # Taking user input\n",
    "            try:\n",
    "                row, col = map(int, input(\"Enter row and column (1-3) to fix spot: \").split())\n",
    "                if not (1 <= row <= 3 and 1 <= col <= 3) or self.board[row - 1][col - 1] != '-':\n",
    "                    print(\"Invalid move. Try again.\")\n",
    "                    continue\n",
    "            except ValueError:\n",
    "                print(\"Please enter valid numbers for row and column.\")\n",
    "                continue\n",
    "\n",
    "            # Fixing the spot\n",
    "            self.fix_spot(row - 1, col - 1, player)\n",
    "\n",
    "            # Checking win condition\n",
    "            if self.is_player_win(player):\n",
    "                print(f\"Player {player} wins the game!\")\n",
    "                break\n",
    "\n",
    "            # Checking draw condition\n",
    "            if self.is_board_filled():\n",
    "                print(\"It's a draw!\")\n",
    "                break\n",
    "\n",
    "            # Swapping turns\n",
    "            player = self.swap_player_turn(player)\n",
    "\n",
    "        # Show final board\n",
    "        print(\"Final Board:\")\n",
    "        self.show_board()\n",
    "\n",
    "\n",
    "# Starting the game\n",
    "if __name__ == \"__main__\":\n",
    "    tic_tac_toe = TicTacToe()\n",
    "    tic_tac_toe.start()\n"
   ]
  },
  {
   "cell_type": "code",
   "execution_count": null,
   "id": "43014edf-0f94-4998-9aa3-54a1a91f8f1c",
   "metadata": {},
   "outputs": [],
   "source": []
  },
  {
   "cell_type": "code",
   "execution_count": null,
   "id": "ea7c838b-6d06-4888-a070-ab6a70f63b68",
   "metadata": {},
   "outputs": [],
   "source": []
  },
  {
   "cell_type": "code",
   "execution_count": null,
   "id": "728fb14c-d350-4d12-b625-19617d91d7e0",
   "metadata": {},
   "outputs": [],
   "source": []
  },
  {
   "cell_type": "code",
   "execution_count": null,
   "id": "169a9031-4797-459b-85c7-41074a2541ae",
   "metadata": {},
   "outputs": [],
   "source": []
  },
  {
   "cell_type": "code",
   "execution_count": null,
   "id": "45eb598c-bc19-43f6-9d41-dfbd9cd939ee",
   "metadata": {},
   "outputs": [],
   "source": []
  },
  {
   "cell_type": "code",
   "execution_count": null,
   "id": "00d98d9b-cc9e-4df0-b3fa-119280baad67",
   "metadata": {},
   "outputs": [],
   "source": []
  },
  {
   "cell_type": "code",
   "execution_count": null,
   "id": "9dfac905-0e1c-49f5-a408-c021689fc725",
   "metadata": {},
   "outputs": [],
   "source": []
  },
  {
   "cell_type": "code",
   "execution_count": null,
   "id": "074c7a8a-cc6c-42be-9aae-471d5551f8fe",
   "metadata": {},
   "outputs": [],
   "source": []
  },
  {
   "cell_type": "code",
   "execution_count": null,
   "id": "ab659c9c-17f8-4691-8c4d-60bec512c22e",
   "metadata": {},
   "outputs": [],
   "source": []
  }
 ],
 "metadata": {
  "kernelspec": {
   "display_name": "Python 3 (ipykernel)",
   "language": "python",
   "name": "python3"
  },
  "language_info": {
   "codemirror_mode": {
    "name": "ipython",
    "version": 3
   },
   "file_extension": ".py",
   "mimetype": "text/x-python",
   "name": "python",
   "nbconvert_exporter": "python",
   "pygments_lexer": "ipython3",
   "version": "3.12.4"
  }
 },
 "nbformat": 4,
 "nbformat_minor": 5
}
